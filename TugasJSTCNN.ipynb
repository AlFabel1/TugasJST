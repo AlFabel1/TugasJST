{
  "metadata": {
    "kernelspec": {
      "language": "python",
      "display_name": "Python 3",
      "name": "python3"
    },
    "language_info": {
      "pygments_lexer": "ipython3",
      "nbconvert_exporter": "python",
      "version": "3.6.4",
      "file_extension": ".py",
      "codemirror_mode": {
        "name": "ipython",
        "version": 3
      },
      "name": "python",
      "mimetype": "text/x-python"
    },
    "colab": {
      "provenance": []
    }
  },
  "nbformat_minor": 0,
  "nbformat": 4,
  "cells": [
    {
      "cell_type": "markdown",
      "source": [
        "**Problem Statement**\n",
        "\n",
        "Image Classification - Solve the following Binary Classification Problem - Concrete Crack\n",
        "Images for Classification\n",
        "\n",
        "**Expected Output**\n",
        "\n",
        "The Final Model will be able to classify the concrete wall images into whether it has crack or not.Accuracy of the model."
      ],
      "metadata": {
        "id": "2AmK0wanNqc8"
      }
    },
    {
      "cell_type": "markdown",
      "source": [
        "**About Dataset**\n",
        "\n",
        "The dataset contains two class of images,one class if of concrete wall with crack and another class without crack.These two classes is seperated into two folders \"Positive\" and \"Negative\".Each class contains 20000 images,total data set contains 40000.Each image is of 227 x 227 pixels with RGB channels.\n"
      ],
      "metadata": {
        "id": "z0ApX83HNqdC"
      }
    },
    {
      "cell_type": "code",
      "source": [
        "from google.colab import drive\n",
        "drive.mount('/content/drive')"
      ],
      "metadata": {
        "colab": {
          "base_uri": "https://localhost:8080/"
        },
        "id": "X4CXzuupUGqj",
        "outputId": "8b6dcaeb-5c68-4a2a-8d2c-73a9bacff603"
      },
      "execution_count": 2,
      "outputs": [
        {
          "output_type": "stream",
          "name": "stdout",
          "text": [
            "Mounted at /content/drive\n"
          ]
        }
      ]
    },
    {
      "cell_type": "markdown",
      "source": [
        "**Methodology**\n",
        "\n",
        "We will be building CNN with 4 Convolutional Layer model to classify images using keras framework.\n",
        "We first read images and then resize to 100 X 100 from 227 X 227 to faten the training process.We stored the resized images so that we no need reprocess the images to begin later.We just load the processed images.\n",
        "We divided our 70%(14000 Positive and 14000 Negative) of data set for training and 30%(6000 Positive and 6000 Negative) of dataset for testing.Then assigned labels 1 to positive images and 0 to negative images.Then shuffle the training set.Then Partitioned input and outputs of Training and Testing which will be used for training and testing model.In the model we implemented 10 epocs with batch size of 128,compiled with binary_crossentropy loss function and adam optimizer.Compared value accuracy with test accuracy.\n"
      ],
      "metadata": {
        "id": "sZb6PPsqNqdF"
      }
    },
    {
      "cell_type": "code",
      "source": [
        "import pandas as pd\n",
        "import numpy as np\n",
        "import os\n",
        "import cv2\n",
        "from matplotlib import pyplot as plt\n",
        "!pip install visualkeras\n",
        "import visualkeras\n",
        "from PIL import ImageFont\n",
        "import tensorflow as tf\n",
        "\n",
        "from glob import glob\n",
        "from google.colab import drive\n",
        "drive.mount('/content/drive/')\n"
      ],
      "metadata": {
        "execution": {
          "iopub.status.busy": "2022-03-21T10:43:09.143970Z",
          "iopub.execute_input": "2022-03-21T10:43:09.144568Z",
          "iopub.status.idle": "2022-03-21T10:43:09.295810Z",
          "shell.execute_reply.started": "2022-03-21T10:43:09.144522Z",
          "shell.execute_reply": "2022-03-21T10:43:09.294972Z"
        },
        "trusted": true,
        "id": "r6rSbTsUNqdJ",
        "colab": {
          "base_uri": "https://localhost:8080/"
        },
        "outputId": "467cd38f-9639-49fa-9d5f-9486a7b1c082"
      },
      "execution_count": 3,
      "outputs": [
        {
          "output_type": "stream",
          "name": "stdout",
          "text": [
            "Looking in indexes: https://pypi.org/simple, https://us-python.pkg.dev/colab-wheels/public/simple/\n",
            "Collecting visualkeras\n",
            "  Downloading visualkeras-0.0.2-py3-none-any.whl (12 kB)\n",
            "Requirement already satisfied: pillow>=6.2.0 in /usr/local/lib/python3.10/dist-packages (from visualkeras) (8.4.0)\n",
            "Requirement already satisfied: numpy>=1.18.1 in /usr/local/lib/python3.10/dist-packages (from visualkeras) (1.22.4)\n",
            "Collecting aggdraw>=1.3.11 (from visualkeras)\n",
            "  Downloading aggdraw-1.3.16-cp310-cp310-manylinux_2_17_x86_64.manylinux2014_x86_64.whl (993 kB)\n",
            "\u001b[2K     \u001b[90m━━━━━━━━━━━━━━━━━━━━━━━━━━━━━━━━━━━━━━\u001b[0m \u001b[32m993.0/993.0 kB\u001b[0m \u001b[31m14.0 MB/s\u001b[0m eta \u001b[36m0:00:00\u001b[0m\n",
            "\u001b[?25hInstalling collected packages: aggdraw, visualkeras\n",
            "Successfully installed aggdraw-1.3.16 visualkeras-0.0.2\n",
            "Drive already mounted at /content/drive/; to attempt to forcibly remount, call drive.mount(\"/content/drive/\", force_remount=True).\n"
          ]
        }
      ]
    },
    {
      "cell_type": "code",
      "source": [
        "path = \"/content/drive/MyDrive/IMPRO/Data\"\n",
        "\n",
        "pos_images = glob(f\"{path}/Positive/*.jpg\");\n",
        "pos_labels = [1] * len(pos_images)\n",
        "neg_images =  glob(f\"{path}/Negative/*.jpg\");\n",
        "neg_labels = [0] * len(neg_images)\n",
        "\n",
        "print(len(pos_images))\n"
      ],
      "metadata": {
        "colab": {
          "base_uri": "https://localhost:8080/"
        },
        "id": "4RVmzNq8Bt2q",
        "outputId": "964109a8-d898-4e75-edcb-c487e7ceea99"
      },
      "execution_count": 4,
      "outputs": [
        {
          "output_type": "stream",
          "name": "stdout",
          "text": [
            "975\n"
          ]
        }
      ]
    },
    {
      "cell_type": "code",
      "source": [
        "pos_image_list = []\n",
        "for i in pos_images:\n",
        "    image = cv2.imread(i)\n",
        "    image_resize = cv2.resize(image, (100, 100))\n",
        "    pos_image_list.append(image_resize)\n",
        "\n",
        "pos_image_resized = np.array(pos_image_list)\n",
        "\n",
        "neg_image_list = []\n",
        "for i in neg_images:\n",
        "    image = cv2.imread(i)\n",
        "    image_resize = cv2.resize(image,(100,100))\n",
        "    neg_image_list.append(image_resize)\n",
        "\n",
        "neg_image_resized = np.array(neg_image_list)\n",
        ""
      ],
      "metadata": {
        "execution": {
          "iopub.status.busy": "2022-03-21T10:43:09.297626Z",
          "iopub.execute_input": "2022-03-21T10:43:09.297903Z",
          "iopub.status.idle": "2022-03-21T10:44:06.098081Z",
          "shell.execute_reply.started": "2022-03-21T10:43:09.297865Z",
          "shell.execute_reply": "2022-03-21T10:44:06.097202Z"
        },
        "trusted": true,
        "id": "Basly-4NNqdM"
      },
      "execution_count": 5,
      "outputs": []
    },
    {
      "cell_type": "code",
      "source": [
        "np.save(\"positive_resize\",pos_image_resized)\n",
        "np.save(\"negative_resize\",neg_image_resized)"
      ],
      "metadata": {
        "execution": {
          "iopub.status.busy": "2022-03-21T10:44:06.099494Z",
          "iopub.execute_input": "2022-03-21T10:44:06.099780Z",
          "iopub.status.idle": "2022-03-21T10:44:07.176855Z",
          "shell.execute_reply.started": "2022-03-21T10:44:06.099741Z",
          "shell.execute_reply": "2022-03-21T10:44:07.175764Z"
        },
        "trusted": true,
        "id": "ZD2gor2HNqdP"
      },
      "execution_count": 6,
      "outputs": []
    },
    {
      "cell_type": "code",
      "source": [
        "pos_resized = np.load(\"positive_resize.npy\")\n",
        "neg_resized = np.load(\"negative_resize.npy\")"
      ],
      "metadata": {
        "execution": {
          "iopub.status.busy": "2022-03-21T10:44:07.182724Z",
          "iopub.execute_input": "2022-03-21T10:44:07.188470Z",
          "iopub.status.idle": "2022-03-21T10:44:07.783180Z",
          "shell.execute_reply.started": "2022-03-21T10:44:07.188415Z",
          "shell.execute_reply": "2022-03-21T10:44:07.782167Z"
        },
        "trusted": true,
        "id": "T5_pbcxBNqdS"
      },
      "execution_count": 7,
      "outputs": []
    },
    {
      "cell_type": "code",
      "source": [
        "\n",
        "\n",
        "final_train = []\n",
        "for i in pos_resized[0:200]:\n",
        "    final_train.append([i,1])\n",
        "\n",
        "for j in neg_resized[0:200]:\n",
        "    final_train.append([j,0])\n",
        "# pos_train = pos_resized[0:15000]\n",
        "# pos_label_train = [1]*len(pos_train)\n",
        "\n",
        "# neg_train = neg_resized[0:15000]\n",
        "# neg_label_train = [0]*len(neg_train)\n"
      ],
      "metadata": {
        "execution": {
          "iopub.status.busy": "2022-03-21T10:44:07.790780Z",
          "iopub.execute_input": "2022-03-21T10:44:07.791115Z",
          "iopub.status.idle": "2022-03-21T10:44:08.048909Z",
          "shell.execute_reply.started": "2022-03-21T10:44:07.791081Z",
          "shell.execute_reply": "2022-03-21T10:44:08.048106Z"
        },
        "trusted": true,
        "id": "yQolEdY1NqdU"
      },
      "execution_count": 8,
      "outputs": []
    },
    {
      "cell_type": "code",
      "source": [
        "len(final_train)"
      ],
      "metadata": {
        "execution": {
          "iopub.status.busy": "2022-03-21T10:44:08.051973Z",
          "iopub.execute_input": "2022-03-21T10:44:08.052759Z",
          "iopub.status.idle": "2022-03-21T10:44:08.058308Z",
          "shell.execute_reply.started": "2022-03-21T10:44:08.052716Z",
          "shell.execute_reply": "2022-03-21T10:44:08.057514Z"
        },
        "trusted": true,
        "id": "DG0g4NGdNqdV",
        "outputId": "830042a7-6d7c-4e39-e346-574b898863b7",
        "colab": {
          "base_uri": "https://localhost:8080/"
        }
      },
      "execution_count": 9,
      "outputs": [
        {
          "output_type": "execute_result",
          "data": {
            "text/plain": [
              "400"
            ]
          },
          "metadata": {},
          "execution_count": 9
        }
      ]
    },
    {
      "cell_type": "code",
      "source": [
        "from sklearn.utils import shuffle\n",
        "\n",
        "final_train = np.array(final_train,dtype=object)\n",
        "final_train = shuffle(final_train)\n",
        "images_train = []\n",
        "labels_train = []\n",
        "\n",
        "for i in final_train:\n",
        "    images_train.append(i[0])\n",
        "    labels_train.append(i[1])"
      ],
      "metadata": {
        "execution": {
          "iopub.status.busy": "2022-03-21T10:44:08.059265Z",
          "iopub.execute_input": "2022-03-21T10:44:08.059777Z",
          "iopub.status.idle": "2022-03-21T10:44:08.705083Z",
          "shell.execute_reply.started": "2022-03-21T10:44:08.059734Z",
          "shell.execute_reply": "2022-03-21T10:44:08.704312Z"
        },
        "trusted": true,
        "id": "dve5FfSyNqdY"
      },
      "execution_count": 10,
      "outputs": []
    },
    {
      "cell_type": "code",
      "source": [
        "# final_valid = []\n",
        "# for i in pos_resized[15000:19000]:\n",
        "#     final_valid.append([i,1])\n",
        "\n",
        "# for j in neg_resized[15000:19000]:\n",
        "#     final_valid.append([j,0])\n",
        "\n",
        "\n",
        "\n",
        "final_test = []\n",
        "\n",
        "for i in pos_resized[200:300]:\n",
        "    final_test.append([i,1])\n",
        "\n",
        "for j in neg_resized[200:300]:\n",
        "    final_test.append([j,0])\n",
        "\n",
        "final_test = np.array(final_test,dtype=object)\n",
        "final_test = shuffle(final_test)\n",
        "images_test = []\n",
        "labels_test = []\n",
        "\n",
        "for i in final_test:\n",
        "    images_test.append(i[0])\n",
        "    labels_test.append(i[1])\n",
        "\n",
        "# pos_valid_test = pos_resized[15000:19000]\n",
        "# pos_label_valid = [1]*len(pos_valid_test)\n",
        "# neg_valid_test = neg_resized[15000:19000]\n",
        "# neg_label_valid = [0]*len(neg_valid_test)\n",
        "print(len(images_test))\n"
      ],
      "metadata": {
        "execution": {
          "iopub.status.busy": "2022-03-21T10:44:08.706316Z",
          "iopub.execute_input": "2022-03-21T10:44:08.708265Z",
          "iopub.status.idle": "2022-03-21T10:44:09.042698Z",
          "shell.execute_reply.started": "2022-03-21T10:44:08.708227Z",
          "shell.execute_reply": "2022-03-21T10:44:09.041894Z"
        },
        "trusted": true,
        "id": "TQZ9xOBtNqdZ",
        "colab": {
          "base_uri": "https://localhost:8080/"
        },
        "outputId": "f064bf31-b8e7-4ac6-a39e-8a00115c5806"
      },
      "execution_count": 11,
      "outputs": [
        {
          "output_type": "stream",
          "name": "stdout",
          "text": [
            "200\n"
          ]
        }
      ]
    },
    {
      "cell_type": "markdown",
      "source": [
        "## Model 1-CNN with 4 convolution layers"
      ],
      "metadata": {
        "id": "TjnE-ecsNqdc"
      }
    },
    {
      "cell_type": "code",
      "source": [
        "from keras import layers\n",
        "from keras import models\n",
        "from keras import optimizers\n",
        "from keras import losses\n",
        "from keras import metrics\n",
        "\n",
        "from tensorflow.keras.utils import img_to_array, load_img\n",
        "\n",
        "model = models.Sequential()\n",
        "model.add(layers.Conv2D(32, (3, 3), activation='relu',input_shape=(100,100,3)))\n",
        "model.add(layers.MaxPooling2D((2, 2)))\n",
        "model.add(layers.Conv2D(64, (3, 3), activation='relu'))\n",
        "model.add(layers.MaxPooling2D((2, 2)))\n",
        "model.add(layers.Conv2D(128, (3, 3), activation='relu'))\n",
        "model.add(layers.MaxPooling2D((2, 2)))\n",
        "model.add(layers.Conv2D(128, (3, 3), activation='relu'))\n",
        "model.add(layers.MaxPooling2D((2, 2)))\n",
        "model.add(layers.Flatten())\n",
        "model.add(layers.Dropout(0.5)) #Dropout for regularization\n",
        "model.add(layers.Dense(512, activation='relu'))\n",
        "model.add(layers.Dense(1, activation='sigmoid'))"
      ],
      "metadata": {
        "execution": {
          "iopub.status.busy": "2022-03-21T10:44:09.043971Z",
          "iopub.execute_input": "2022-03-21T10:44:09.044394Z",
          "iopub.status.idle": "2022-03-21T10:44:09.120861Z",
          "shell.execute_reply.started": "2022-03-21T10:44:09.044356Z",
          "shell.execute_reply": "2022-03-21T10:44:09.120113Z"
        },
        "trusted": true,
        "id": "3yxr3o0uNqdd"
      },
      "execution_count": 12,
      "outputs": []
    },
    {
      "cell_type": "code",
      "source": [
        "model.compile(loss='binary_crossentropy',optimizer='Adam',metrics=['accuracy'])"
      ],
      "metadata": {
        "execution": {
          "iopub.status.busy": "2022-03-21T10:44:09.122200Z",
          "iopub.execute_input": "2022-03-21T10:44:09.122461Z",
          "iopub.status.idle": "2022-03-21T10:44:09.130957Z",
          "shell.execute_reply.started": "2022-03-21T10:44:09.122428Z",
          "shell.execute_reply": "2022-03-21T10:44:09.130122Z"
        },
        "trusted": true,
        "id": "8Y2uSN0SNqdd"
      },
      "execution_count": 13,
      "outputs": []
    },
    {
      "cell_type": "code",
      "source": [
        "print(model.summary())"
      ],
      "metadata": {
        "execution": {
          "iopub.status.busy": "2022-03-21T10:44:09.132534Z",
          "iopub.execute_input": "2022-03-21T10:44:09.133156Z",
          "iopub.status.idle": "2022-03-21T10:44:09.148759Z",
          "shell.execute_reply.started": "2022-03-21T10:44:09.133100Z",
          "shell.execute_reply": "2022-03-21T10:44:09.147798Z"
        },
        "trusted": true,
        "id": "U_efNhDDNqde",
        "outputId": "e17bb477-92d3-405c-b890-98b600fab485",
        "colab": {
          "base_uri": "https://localhost:8080/"
        }
      },
      "execution_count": 14,
      "outputs": [
        {
          "output_type": "stream",
          "name": "stdout",
          "text": [
            "Model: \"sequential\"\n",
            "_________________________________________________________________\n",
            " Layer (type)                Output Shape              Param #   \n",
            "=================================================================\n",
            " conv2d (Conv2D)             (None, 98, 98, 32)        896       \n",
            "                                                                 \n",
            " max_pooling2d (MaxPooling2D  (None, 49, 49, 32)       0         \n",
            " )                                                               \n",
            "                                                                 \n",
            " conv2d_1 (Conv2D)           (None, 47, 47, 64)        18496     \n",
            "                                                                 \n",
            " max_pooling2d_1 (MaxPooling  (None, 23, 23, 64)       0         \n",
            " 2D)                                                             \n",
            "                                                                 \n",
            " conv2d_2 (Conv2D)           (None, 21, 21, 128)       73856     \n",
            "                                                                 \n",
            " max_pooling2d_2 (MaxPooling  (None, 10, 10, 128)      0         \n",
            " 2D)                                                             \n",
            "                                                                 \n",
            " conv2d_3 (Conv2D)           (None, 8, 8, 128)         147584    \n",
            "                                                                 \n",
            " max_pooling2d_3 (MaxPooling  (None, 4, 4, 128)        0         \n",
            " 2D)                                                             \n",
            "                                                                 \n",
            " flatten (Flatten)           (None, 2048)              0         \n",
            "                                                                 \n",
            " dropout (Dropout)           (None, 2048)              0         \n",
            "                                                                 \n",
            " dense (Dense)               (None, 512)               1049088   \n",
            "                                                                 \n",
            " dense_1 (Dense)             (None, 1)                 513       \n",
            "                                                                 \n",
            "=================================================================\n",
            "Total params: 1,290,433\n",
            "Trainable params: 1,290,433\n",
            "Non-trainable params: 0\n",
            "_________________________________________________________________\n",
            "None\n"
          ]
        }
      ]
    },
    {
      "cell_type": "code",
      "source": [
        "print(len(images_train),len(labels_train))\n",
        "print(len(images_test),len(labels_test))\n",
        "\n",
        "images_train = np.array(images_train)\n",
        "labels_train = np.array(labels_train)\n",
        "\n",
        "\n",
        "images_test = np.array(images_test)\n",
        "labels_test = np.array(labels_test)"
      ],
      "metadata": {
        "execution": {
          "iopub.status.busy": "2022-03-21T10:44:09.150012Z",
          "iopub.execute_input": "2022-03-21T10:44:09.150360Z",
          "iopub.status.idle": "2022-03-21T10:44:09.540411Z",
          "shell.execute_reply.started": "2022-03-21T10:44:09.150321Z",
          "shell.execute_reply": "2022-03-21T10:44:09.539604Z"
        },
        "trusted": true,
        "id": "EQuRCQVVNqdg",
        "outputId": "56405133-68ae-43d6-8648-572c67aba519",
        "colab": {
          "base_uri": "https://localhost:8080/"
        }
      },
      "execution_count": 15,
      "outputs": [
        {
          "output_type": "stream",
          "name": "stdout",
          "text": [
            "400 400\n",
            "200 200\n"
          ]
        }
      ]
    },
    {
      "cell_type": "code",
      "source": [
        "model_history = model.fit(images_train, labels_train, validation_data = (images_test, labels_test), epochs = 10, batch_size=128)"
      ],
      "metadata": {
        "execution": {
          "iopub.status.busy": "2022-03-21T10:44:09.541902Z",
          "iopub.execute_input": "2022-03-21T10:44:09.542181Z",
          "iopub.status.idle": "2022-03-21T10:45:11.523523Z",
          "shell.execute_reply.started": "2022-03-21T10:44:09.542129Z",
          "shell.execute_reply": "2022-03-21T10:45:11.522663Z"
        },
        "trusted": true,
        "id": "MBr-7wOyNqdh",
        "outputId": "630e8bd7-1320-463e-9ffe-a9d5cd3635a6",
        "colab": {
          "base_uri": "https://localhost:8080/"
        }
      },
      "execution_count": 16,
      "outputs": [
        {
          "output_type": "stream",
          "name": "stdout",
          "text": [
            "Epoch 1/10\n",
            "4/4 [==============================] - 23s 5s/step - loss: 35.9396 - accuracy: 0.4775 - val_loss: 9.1369 - val_accuracy: 0.5000\n",
            "Epoch 2/10\n",
            "4/4 [==============================] - 17s 4s/step - loss: 6.6837 - accuracy: 0.5350 - val_loss: 1.0436 - val_accuracy: 0.5000\n",
            "Epoch 3/10\n",
            "4/4 [==============================] - 11s 3s/step - loss: 1.8462 - accuracy: 0.5200 - val_loss: 0.5796 - val_accuracy: 0.6050\n",
            "Epoch 4/10\n",
            "4/4 [==============================] - 10s 2s/step - loss: 0.9903 - accuracy: 0.5425 - val_loss: 0.5627 - val_accuracy: 0.6300\n",
            "Epoch 5/10\n",
            "4/4 [==============================] - 11s 3s/step - loss: 0.6333 - accuracy: 0.6525 - val_loss: 0.3917 - val_accuracy: 0.9750\n",
            "Epoch 6/10\n",
            "4/4 [==============================] - 12s 3s/step - loss: 0.3596 - accuracy: 0.8750 - val_loss: 0.2339 - val_accuracy: 0.9600\n",
            "Epoch 7/10\n",
            "4/4 [==============================] - 10s 2s/step - loss: 0.3137 - accuracy: 0.8750 - val_loss: 0.3687 - val_accuracy: 0.7900\n",
            "Epoch 8/10\n",
            "4/4 [==============================] - 11s 2s/step - loss: 0.7694 - accuracy: 0.7500 - val_loss: 0.8071 - val_accuracy: 0.5800\n",
            "Epoch 9/10\n",
            "4/4 [==============================] - 11s 3s/step - loss: 0.9862 - accuracy: 0.6300 - val_loss: 0.4294 - val_accuracy: 0.9100\n",
            "Epoch 10/10\n",
            "4/4 [==============================] - 12s 3s/step - loss: 0.4447 - accuracy: 0.7525 - val_loss: 0.4373 - val_accuracy: 0.5650\n"
          ]
        }
      ]
    },
    {
      "cell_type": "code",
      "source": [
        "from sklearn.metrics import accuracy_score\n",
        "\n",
        "# final_test = np.concatenate((pos_test,neg_test),axis=0)\n",
        "# final_label_test = np.concatenate((pos_label_test,neg_label_test),axis=0)\n",
        "\n",
        "prediction = model.predict(images_test)\n",
        "k=(prediction >= 0.5).astype(np.int)\n",
        "print(\"Accuracy_Score : {}\".format(accuracy_score(k, labels_test) * 100))"
      ],
      "metadata": {
        "execution": {
          "iopub.status.busy": "2022-03-21T10:45:11.527691Z",
          "iopub.execute_input": "2022-03-21T10:45:11.527903Z",
          "iopub.status.idle": "2022-03-21T10:45:13.598467Z",
          "shell.execute_reply.started": "2022-03-21T10:45:11.527876Z",
          "shell.execute_reply": "2022-03-21T10:45:13.597679Z"
        },
        "trusted": true,
        "id": "pkFystatNqdi",
        "outputId": "3cd54471-5aab-4564-b379-a8b098d8204a",
        "colab": {
          "base_uri": "https://localhost:8080/"
        }
      },
      "execution_count": 17,
      "outputs": [
        {
          "output_type": "stream",
          "name": "stdout",
          "text": [
            "7/7 [==============================] - 1s 153ms/step\n",
            "Accuracy_Score : 56.49999999999999\n"
          ]
        },
        {
          "output_type": "stream",
          "name": "stderr",
          "text": [
            "<ipython-input-17-aada971e43f5>:7: DeprecationWarning: `np.int` is a deprecated alias for the builtin `int`. To silence this warning, use `int` by itself. Doing this will not modify any behavior and is safe. When replacing `np.int`, you may wish to use e.g. `np.int64` or `np.int32` to specify the precision. If you wish to review your current use, check the release note link for additional information.\n",
            "Deprecated in NumPy 1.20; for more details and guidance: https://numpy.org/devdocs/release/1.20.0-notes.html#deprecations\n",
            "  k=(prediction >= 0.5).astype(np.int)\n"
          ]
        }
      ]
    },
    {
      "cell_type": "code",
      "source": [
        "prediction"
      ],
      "metadata": {
        "execution": {
          "iopub.status.busy": "2022-03-21T10:45:13.600022Z",
          "iopub.execute_input": "2022-03-21T10:45:13.600556Z",
          "iopub.status.idle": "2022-03-21T10:45:13.607945Z",
          "shell.execute_reply.started": "2022-03-21T10:45:13.600513Z",
          "shell.execute_reply": "2022-03-21T10:45:13.607203Z"
        },
        "trusted": true,
        "id": "Gs7kRzwRNqdj",
        "outputId": "54ab0ad9-3be0-49ea-b0c8-2fc01492af50",
        "colab": {
          "base_uri": "https://localhost:8080/"
        }
      },
      "execution_count": 18,
      "outputs": [
        {
          "output_type": "execute_result",
          "data": {
            "text/plain": [
              "array([[0.9740621 ],\n",
              "       [0.52615964],\n",
              "       [0.99582285],\n",
              "       [0.50156724],\n",
              "       [0.9954124 ],\n",
              "       [0.5650998 ],\n",
              "       [0.9545605 ],\n",
              "       [0.9987483 ],\n",
              "       [0.9987057 ],\n",
              "       [0.99964255],\n",
              "       [0.6771762 ],\n",
              "       [0.9877975 ],\n",
              "       [0.6106289 ],\n",
              "       [0.4889546 ],\n",
              "       [0.8913581 ],\n",
              "       [0.5275088 ],\n",
              "       [0.517923  ],\n",
              "       [0.99996793],\n",
              "       [0.5800075 ],\n",
              "       [0.53145313],\n",
              "       [0.5240691 ],\n",
              "       [0.72583926],\n",
              "       [0.96456367],\n",
              "       [0.9402063 ],\n",
              "       [0.9805833 ],\n",
              "       [0.5045124 ],\n",
              "       [0.5084021 ],\n",
              "       [0.99954814],\n",
              "       [0.53304815],\n",
              "       [0.49462417],\n",
              "       [0.6848895 ],\n",
              "       [0.985035  ],\n",
              "       [0.99385905],\n",
              "       [0.9922594 ],\n",
              "       [0.5616664 ],\n",
              "       [0.9932219 ],\n",
              "       [0.9721321 ],\n",
              "       [0.51434416],\n",
              "       [0.99707925],\n",
              "       [0.5446821 ],\n",
              "       [0.49831128],\n",
              "       [0.9937502 ],\n",
              "       [0.5097045 ],\n",
              "       [0.9979071 ],\n",
              "       [0.99603444],\n",
              "       [0.9981598 ],\n",
              "       [0.6774471 ],\n",
              "       [0.9840413 ],\n",
              "       [0.9962477 ],\n",
              "       [0.9968318 ],\n",
              "       [0.8547825 ],\n",
              "       [0.5477885 ],\n",
              "       [0.60641766],\n",
              "       [0.99877906],\n",
              "       [0.49539503],\n",
              "       [0.9597913 ],\n",
              "       [0.52033156],\n",
              "       [0.4977478 ],\n",
              "       [0.686324  ],\n",
              "       [0.5179564 ],\n",
              "       [0.51953846],\n",
              "       [0.9993788 ],\n",
              "       [0.5164569 ],\n",
              "       [0.52829224],\n",
              "       [0.50146097],\n",
              "       [0.52614045],\n",
              "       [0.99991035],\n",
              "       [0.9992654 ],\n",
              "       [0.5733734 ],\n",
              "       [0.95494115],\n",
              "       [0.73871505],\n",
              "       [0.5548765 ],\n",
              "       [0.6208225 ],\n",
              "       [0.70913875],\n",
              "       [0.9920863 ],\n",
              "       [0.5026122 ],\n",
              "       [0.99999785],\n",
              "       [0.9992569 ],\n",
              "       [0.99991786],\n",
              "       [0.61321044],\n",
              "       [0.5214626 ],\n",
              "       [0.5571278 ],\n",
              "       [0.99155056],\n",
              "       [0.9999993 ],\n",
              "       [0.9612843 ],\n",
              "       [0.99538374],\n",
              "       [0.99997765],\n",
              "       [0.5288574 ],\n",
              "       [0.60190326],\n",
              "       [0.51938206],\n",
              "       [0.9862851 ],\n",
              "       [0.51616967],\n",
              "       [0.99877936],\n",
              "       [0.9654863 ],\n",
              "       [0.51696897],\n",
              "       [0.9973561 ],\n",
              "       [0.49637833],\n",
              "       [0.9083486 ],\n",
              "       [0.4808112 ],\n",
              "       [0.5089376 ],\n",
              "       [0.49270922],\n",
              "       [0.96307224],\n",
              "       [0.51001114],\n",
              "       [0.6098526 ],\n",
              "       [0.9990618 ],\n",
              "       [0.99979   ],\n",
              "       [0.5112479 ],\n",
              "       [0.9536277 ],\n",
              "       [0.6899285 ],\n",
              "       [0.99806   ],\n",
              "       [0.98833424],\n",
              "       [0.9999085 ],\n",
              "       [0.5695526 ],\n",
              "       [0.98621696],\n",
              "       [0.99195045],\n",
              "       [0.98207474],\n",
              "       [0.52443993],\n",
              "       [0.5692108 ],\n",
              "       [0.99872136],\n",
              "       [0.58958143],\n",
              "       [0.92648584],\n",
              "       [0.5433127 ],\n",
              "       [0.5177558 ],\n",
              "       [0.86769867],\n",
              "       [0.9892686 ],\n",
              "       [0.9958024 ],\n",
              "       [0.50399745],\n",
              "       [0.9994327 ],\n",
              "       [0.52662784],\n",
              "       [0.9996599 ],\n",
              "       [0.5143029 ],\n",
              "       [0.8587626 ],\n",
              "       [0.9999368 ],\n",
              "       [0.6618364 ],\n",
              "       [0.5036217 ],\n",
              "       [0.52600104],\n",
              "       [0.84929866],\n",
              "       [0.50963235],\n",
              "       [0.97981656],\n",
              "       [0.58289146],\n",
              "       [0.6880991 ],\n",
              "       [0.9574638 ],\n",
              "       [0.5074691 ],\n",
              "       [0.97082144],\n",
              "       [0.9802232 ],\n",
              "       [0.9996186 ],\n",
              "       [0.7270791 ],\n",
              "       [0.99992126],\n",
              "       [0.4956968 ],\n",
              "       [0.9847667 ],\n",
              "       [0.99997044],\n",
              "       [0.9994299 ],\n",
              "       [0.99992234],\n",
              "       [0.5097422 ],\n",
              "       [0.99869585],\n",
              "       [0.5342092 ],\n",
              "       [0.48790503],\n",
              "       [0.49958292],\n",
              "       [0.50566447],\n",
              "       [0.9997762 ],\n",
              "       [0.98616964],\n",
              "       [0.55685633],\n",
              "       [0.52054393],\n",
              "       [0.53388286],\n",
              "       [0.96060824],\n",
              "       [0.53352195],\n",
              "       [0.9941018 ],\n",
              "       [0.99870986],\n",
              "       [0.62203544],\n",
              "       [0.55494183],\n",
              "       [0.90688187],\n",
              "       [0.6204562 ],\n",
              "       [0.999781  ],\n",
              "       [0.99706787],\n",
              "       [0.61742073],\n",
              "       [0.77543956],\n",
              "       [0.51673245],\n",
              "       [0.99960524],\n",
              "       [0.50678945],\n",
              "       [0.5149046 ],\n",
              "       [0.9826997 ],\n",
              "       [0.50654507],\n",
              "       [0.99846613],\n",
              "       [0.9998955 ],\n",
              "       [0.5628156 ],\n",
              "       [0.6198479 ],\n",
              "       [0.92612964],\n",
              "       [0.99958014],\n",
              "       [0.49092153],\n",
              "       [0.5204804 ],\n",
              "       [0.7898778 ],\n",
              "       [0.72512376],\n",
              "       [0.99343055],\n",
              "       [0.52623206],\n",
              "       [0.99847245],\n",
              "       [0.49960986],\n",
              "       [0.5498135 ],\n",
              "       [0.99998605],\n",
              "       [0.9997528 ],\n",
              "       [0.92291754]], dtype=float32)"
            ]
          },
          "metadata": {},
          "execution_count": 18
        }
      ]
    },
    {
      "cell_type": "code",
      "source": [
        "k=(prediction >= 0.5).astype(np.int)"
      ],
      "metadata": {
        "execution": {
          "iopub.status.busy": "2022-03-21T10:45:13.609267Z",
          "iopub.execute_input": "2022-03-21T10:45:13.610076Z",
          "iopub.status.idle": "2022-03-21T10:45:13.617671Z",
          "shell.execute_reply.started": "2022-03-21T10:45:13.610034Z",
          "shell.execute_reply": "2022-03-21T10:45:13.616723Z"
        },
        "trusted": true,
        "id": "UIKyQToKNqdk",
        "colab": {
          "base_uri": "https://localhost:8080/"
        },
        "outputId": "de27e083-5ad7-44d4-b68e-46d5ea0083ba"
      },
      "execution_count": 19,
      "outputs": [
        {
          "output_type": "stream",
          "name": "stderr",
          "text": [
            "<ipython-input-19-786ba72674d7>:1: DeprecationWarning: `np.int` is a deprecated alias for the builtin `int`. To silence this warning, use `int` by itself. Doing this will not modify any behavior and is safe. When replacing `np.int`, you may wish to use e.g. `np.int64` or `np.int32` to specify the precision. If you wish to review your current use, check the release note link for additional information.\n",
            "Deprecated in NumPy 1.20; for more details and guidance: https://numpy.org/devdocs/release/1.20.0-notes.html#deprecations\n",
            "  k=(prediction >= 0.5).astype(np.int)\n"
          ]
        }
      ]
    },
    {
      "cell_type": "code",
      "source": [
        "from sklearn.metrics import accuracy_score\n",
        "\n",
        "# final_test = np.concatenate((pos_test,neg_test),axis=0)\n",
        "# final_label_test = np.concatenate((pos_label_test,neg_label_test),axis=0)\n",
        "\n",
        "prediction = model.predict(images_test)\n",
        "print(\"Accuracy_Score : {}\".format(accuracy_score(k, labels_test) * 100))"
      ],
      "metadata": {
        "execution": {
          "iopub.status.busy": "2022-03-21T10:45:13.619086Z",
          "iopub.execute_input": "2022-03-21T10:45:13.619353Z",
          "iopub.status.idle": "2022-03-21T10:45:15.571384Z",
          "shell.execute_reply.started": "2022-03-21T10:45:13.619319Z",
          "shell.execute_reply": "2022-03-21T10:45:15.569721Z"
        },
        "trusted": true,
        "id": "oqlWTWtoNqdm",
        "outputId": "0ced1fd6-f300-4ce1-9a87-e15b079c23df",
        "colab": {
          "base_uri": "https://localhost:8080/"
        }
      },
      "execution_count": 20,
      "outputs": [
        {
          "output_type": "stream",
          "name": "stdout",
          "text": [
            "7/7 [==============================] - 1s 156ms/step\n",
            "Accuracy_Score : 56.49999999999999\n"
          ]
        }
      ]
    },
    {
      "cell_type": "code",
      "source": [
        "import matplotlib.pyplot as plt\n",
        "\n",
        "# Membuat plot untuk training loss\n",
        "plt.plot(model_history.history['loss'], label='Training Loss')\n",
        "\n",
        "# Membuat plot untuk validation loss\n",
        "plt.plot(model_history.history['val_loss'], label='Validation Loss')\n",
        "\n",
        "# Memberi label pada sumbu x dan y serta judul plot\n",
        "plt.xlabel('Epoch')\n",
        "plt.ylabel('Loss')\n",
        "plt.title('Training and Validation Loss Over Time')\n",
        "\n",
        "# Menampilkan legenda\n",
        "plt.legend()\n",
        "\n",
        "# Menampilkan plot\n",
        "plt.show()"
      ],
      "metadata": {
        "execution": {
          "iopub.status.busy": "2022-03-21T10:45:15.572858Z",
          "iopub.execute_input": "2022-03-21T10:45:15.573238Z",
          "iopub.status.idle": "2022-03-21T10:45:19.227567Z",
          "shell.execute_reply.started": "2022-03-21T10:45:15.573196Z",
          "shell.execute_reply": "2022-03-21T10:45:19.226784Z"
        },
        "trusted": true,
        "id": "h_Jve3spNqdm",
        "outputId": "fd0bf4ae-379d-4a18-b6a9-07edc8f0f5af",
        "colab": {
          "base_uri": "https://localhost:8080/",
          "height": 472
        }
      },
      "execution_count": 21,
      "outputs": [
        {
          "output_type": "display_data",
          "data": {
            "text/plain": [
              "<Figure size 640x480 with 1 Axes>"
            ],
            "image/png": "[encoded data removed]"
          },
          "metadata": {}
        }
      ]
    },
    {
      "cell_type": "code",
      "source": [
        "import matplotlib.pyplot as plt\n",
        "\n",
        "# Membuat plot untuk training accuracy\n",
        "plt.plot(model_history.history['accuracy'], label='Training Accuracy')\n",
        "\n",
        "# Membuat plot untuk validation accuracy\n",
        "plt.plot(model_history.history['val_accuracy'], label='Validation Accuracy')\n",
        "\n",
        "# Memberi label pada sumbu x dan y serta judul plot\n",
        "plt.xlabel('Epoch')\n",
        "plt.ylabel('Accuracy')\n",
        "plt.title('Training and Validation Accuracy Over Time')\n",
        "\n",
        "# Menampilkan legenda\n",
        "plt.legend()\n",
        "\n",
        "# Menampilkan plot\n",
        "plt.show()\n"
      ],
      "metadata": {
        "execution": {
          "iopub.status.busy": "2022-03-21T10:45:19.229330Z",
          "iopub.execute_input": "2022-03-21T10:45:19.229795Z",
          "iopub.status.idle": "2022-03-21T10:45:19.301967Z",
          "shell.execute_reply.started": "2022-03-21T10:45:19.229756Z",
          "shell.execute_reply": "2022-03-21T10:45:19.301209Z"
        },
        "trusted": true,
        "id": "7Gu9HrHdNqdn",
        "outputId": "5ff66958-c1f3-46b3-cafa-6b66a232136e",
        "colab": {
          "base_uri": "https://localhost:8080/",
          "height": 472
        }
      },
      "execution_count": 22,
      "outputs": [
        {
          "output_type": "display_data",
          "data": {
            "text/plain": [
              "<Figure size 640x480 with 1 Axes>"
            ],
            "image/png": "[encoded data removed]"
          },
          "metadata": {}
        }
      ]
    },
    {
      "cell_type": "code",
      "source": [
        "results = model.evaluate(images_test, labels_test, batch_size=128)\n",
        "print(\"test loss, test acc:\", results)"
      ],
      "metadata": {
        "execution": {
          "iopub.status.busy": "2022-03-21T10:45:19.303257Z",
          "iopub.execute_input": "2022-03-21T10:45:19.303849Z",
          "iopub.status.idle": "2022-03-21T10:45:20.828433Z",
          "shell.execute_reply.started": "2022-03-21T10:45:19.303805Z",
          "shell.execute_reply": "2022-03-21T10:45:20.827625Z"
        },
        "trusted": true,
        "id": "fCPbgUxFNqdo",
        "outputId": "470bc15a-a66a-456b-9fc1-5b22a0a875ae",
        "colab": {
          "base_uri": "https://localhost:8080/"
        }
      },
      "execution_count": 23,
      "outputs": [
        {
          "output_type": "stream",
          "name": "stdout",
          "text": [
            "2/2 [==============================] - 1s 427ms/step - loss: 0.4373 - accuracy: 0.5650\n",
            "test loss, test acc: [0.4373449981212616, 0.5649999976158142]\n"
          ]
        }
      ]
    },
    {
      "cell_type": "code",
      "source": [
        "from sklearn.metrics import confusion_matrix, classification_report\n",
        "import seaborn as sns\n",
        "def evaluate_model(model, images_test,labels_test):\n",
        "\n",
        "    results = model.evaluate(images_test,labels_test, verbose=0)\n",
        "    loss = results[0]\n",
        "    acc = results[1]\n",
        "\n",
        "    print(\"    Test Loss: {:.5f}\".format(loss))\n",
        "    print(\"Test Accuracy: {:.2f}%\".format(acc * 100))\n",
        "\n",
        "    y_pred = np.squeeze((model.predict(images_test) >= 0.5).astype(np.int))\n",
        "    cm = confusion_matrix(labels_test, y_pred)\n",
        "    clr = classification_report(labels_test, y_pred, target_names=[\"NEGATIVE\", \"POSITIVE\"])\n",
        "\n",
        "    plt.figure(figsize=(6, 6))\n",
        "    sns.heatmap(cm, annot=True, fmt='g', vmin=0, cmap='Blues', cbar=False)\n",
        "    plt.xticks(ticks=np.arange(2) + 0.5, labels=[\"NEGATIVE\", \"POSITIVE\"])\n",
        "    plt.yticks(ticks=np.arange(2) + 0.5, labels=[\"NEGATIVE\", \"POSITIVE\"])\n",
        "    plt.xlabel(\"Predicted\")\n",
        "    plt.ylabel(\"Actual\")\n",
        "    plt.title(\"Confusion Matrix\")\n",
        "    plt.show()\n",
        "\n",
        "    print(\"Classification Report:\\n----------------------\\n\", clr)"
      ],
      "metadata": {
        "execution": {
          "iopub.status.busy": "2022-03-21T10:45:20.830225Z",
          "iopub.execute_input": "2022-03-21T10:45:20.830771Z",
          "iopub.status.idle": "2022-03-21T10:45:20.917859Z",
          "shell.execute_reply.started": "2022-03-21T10:45:20.830732Z",
          "shell.execute_reply": "2022-03-21T10:45:20.917142Z"
        },
        "trusted": true,
        "id": "p5ebANfdNqdp"
      },
      "execution_count": 24,
      "outputs": []
    },
    {
      "cell_type": "code",
      "source": [
        "evaluate_model(model,images_test,labels_test )"
      ],
      "metadata": {
        "execution": {
          "iopub.status.busy": "2022-03-21T10:45:20.919388Z",
          "iopub.execute_input": "2022-03-21T10:45:20.919639Z",
          "iopub.status.idle": "2022-03-21T10:45:24.147326Z",
          "shell.execute_reply.started": "2022-03-21T10:45:20.919603Z",
          "shell.execute_reply": "2022-03-21T10:45:24.145980Z"
        },
        "trusted": true,
        "id": "vbcLGtLiNqdq",
        "outputId": "843b808e-7912-401a-e797-4e3af95d18e5",
        "colab": {
          "base_uri": "https://localhost:8080/",
          "height": 879
        }
      },
      "execution_count": 25,
      "outputs": [
        {
          "output_type": "stream",
          "name": "stdout",
          "text": [
            "    Test Loss: 0.43734\n",
            "Test Accuracy: 56.50%\n",
            "7/7 [==============================] - 2s 283ms/step\n"
          ]
        },
        {
          "output_type": "stream",
          "name": "stderr",
          "text": [
            "<ipython-input-24-04cde486f314>:12: DeprecationWarning: `np.int` is a deprecated alias for the builtin `int`. To silence this warning, use `int` by itself. Doing this will not modify any behavior and is safe. When replacing `np.int`, you may wish to use e.g. `np.int64` or `np.int32` to specify the precision. If you wish to review your current use, check the release note link for additional information.\n",
            "Deprecated in NumPy 1.20; for more details and guidance: https://numpy.org/devdocs/release/1.20.0-notes.html#deprecations\n",
            "  y_pred = np.squeeze((model.predict(images_test) >= 0.5).astype(np.int))\n"
          ]
        },
        {
          "output_type": "display_data",
          "data": {
            "text/plain": [
              "<Figure size 600x600 with 1 Axes>"
            ],
            "image/png": "[encoded data removed]"
          },
          "metadata": {}
        },
        {
          "output_type": "stream",
          "name": "stdout",
          "text": [
            "Classification Report:\n",
            "----------------------\n",
            "               precision    recall  f1-score   support\n",
            "\n",
            "    NEGATIVE       1.00      0.13      0.23       100\n",
            "    POSITIVE       0.53      1.00      0.70       100\n",
            "\n",
            "    accuracy                           0.56       200\n",
            "   macro avg       0.77      0.56      0.46       200\n",
            "weighted avg       0.77      0.56      0.46       200\n",
            "\n"
          ]
        }
      ]
    },
    {
      "cell_type": "code",
      "source": [],
      "metadata": {
        "id": "G_xn1w4bNqdr"
      },
      "execution_count": 25,
      "outputs": []
    },
    {
      "cell_type": "markdown",
      "source": [],
      "metadata": {
        "id": "RZV6Uki_JSdE"
      }
    },
    {
      "cell_type": "markdown",
      "source": [
        "# Model 2-CNN with 2 convolution layers"
      ],
      "metadata": {
        "id": "SQxdqoqpKMtU"
      }
    },
    {
      "cell_type": "code",
      "source": [
        "import keras\n",
        "inputs = keras.Input(shape=(100, 100, 3))\n",
        "x = layers.Conv2D(filters=16, kernel_size=(3, 3), activation='relu')(inputs)\n",
        "x = layers.MaxPool2D(pool_size=(2, 2))(x)\n",
        "x = layers.Conv2D(filters=32, kernel_size=(3, 3), activation='relu')(x)\n",
        "x = layers.MaxPool2D(pool_size=(2, 2))(x)\n",
        "x = layers.GlobalAveragePooling2D()(x)\n",
        "outputs = layers.Dense(1, activation='sigmoid')(x)\n",
        "\n",
        "model2 = keras.Model(inputs=inputs, outputs=outputs)\n",
        "\n",
        "model2.compile(\n",
        "    optimizer='adam',\n",
        "    loss='binary_crossentropy',\n",
        "    metrics=['accuracy']\n",
        ")\n",
        "\n",
        "print(model2.summary())"
      ],
      "metadata": {
        "colab": {
          "base_uri": "https://localhost:8080/"
        },
        "id": "U1FrGW2dKNwc",
        "outputId": "8f704261-b787-44f0-ac88-f5369147f11a"
      },
      "execution_count": 26,
      "outputs": [
        {
          "output_type": "stream",
          "name": "stdout",
          "text": [
            "Model: \"model\"\n",
            "_________________________________________________________________\n",
            " Layer (type)                Output Shape              Param #   \n",
            "=================================================================\n",
            " input_1 (InputLayer)        [(None, 100, 100, 3)]     0         \n",
            "                                                                 \n",
            " conv2d_4 (Conv2D)           (None, 98, 98, 16)        448       \n",
            "                                                                 \n",
            " max_pooling2d_4 (MaxPooling  (None, 49, 49, 16)       0         \n",
            " 2D)                                                             \n",
            "                                                                 \n",
            " conv2d_5 (Conv2D)           (None, 47, 47, 32)        4640      \n",
            "                                                                 \n",
            " max_pooling2d_5 (MaxPooling  (None, 23, 23, 32)       0         \n",
            " 2D)                                                             \n",
            "                                                                 \n",
            " global_average_pooling2d (G  (None, 32)               0         \n",
            " lobalAveragePooling2D)                                          \n",
            "                                                                 \n",
            " dense_2 (Dense)             (None, 1)                 33        \n",
            "                                                                 \n",
            "=================================================================\n",
            "Total params: 5,121\n",
            "Trainable params: 5,121\n",
            "Non-trainable params: 0\n",
            "_________________________________________________________________\n",
            "None\n"
          ]
        }
      ]
    },
    {
      "cell_type": "code",
      "source": [
        "model2_history = model2.fit(images_train, labels_train, validation_data = (images_test, labels_test), epochs = 10, batch_size=128)"
      ],
      "metadata": {
        "colab": {
          "base_uri": "https://localhost:8080/"
        },
        "id": "l4G2a8vvKZkD",
        "outputId": "d2fbd219-df12-4792-bb2e-895b427b8043"
      },
      "execution_count": 27,
      "outputs": [
        {
          "output_type": "stream",
          "name": "stdout",
          "text": [
            "Epoch 1/10\n",
            "4/4 [==============================] - 5s 880ms/step - loss: 7.5562 - accuracy: 0.5150 - val_loss: 1.6536 - val_accuracy: 0.5000\n",
            "Epoch 2/10\n",
            "4/4 [==============================] - 4s 857ms/step - loss: 5.7042 - accuracy: 0.4900 - val_loss: 2.7272 - val_accuracy: 0.5000\n",
            "Epoch 3/10\n",
            "4/4 [==============================] - 6s 1s/step - loss: 3.4041 - accuracy: 0.4850 - val_loss: 4.0755 - val_accuracy: 0.5000\n",
            "Epoch 4/10\n",
            "4/4 [==============================] - 4s 877ms/step - loss: 2.5543 - accuracy: 0.5150 - val_loss: 1.3487 - val_accuracy: 0.5000\n",
            "Epoch 5/10\n",
            "4/4 [==============================] - 4s 875ms/step - loss: 0.9105 - accuracy: 0.6125 - val_loss: 0.4133 - val_accuracy: 0.7950\n",
            "Epoch 6/10\n",
            "4/4 [==============================] - 5s 1s/step - loss: 0.5879 - accuracy: 0.7550 - val_loss: 0.3933 - val_accuracy: 0.7500\n",
            "Epoch 7/10\n",
            "4/4 [==============================] - 4s 810ms/step - loss: 0.5027 - accuracy: 0.6925 - val_loss: 0.2670 - val_accuracy: 0.9300\n",
            "Epoch 8/10\n",
            "4/4 [==============================] - 4s 885ms/step - loss: 0.3131 - accuracy: 0.8725 - val_loss: 0.4788 - val_accuracy: 0.8200\n",
            "Epoch 9/10\n",
            "4/4 [==============================] - 3s 835ms/step - loss: 0.4039 - accuracy: 0.7950 - val_loss: 0.1958 - val_accuracy: 0.9650\n",
            "Epoch 10/10\n",
            "4/4 [==============================] - 6s 1s/step - loss: 0.3181 - accuracy: 0.9075 - val_loss: 0.1699 - val_accuracy: 0.9800\n"
          ]
        }
      ]
    },
    {
      "cell_type": "code",
      "source": [
        "import matplotlib.pyplot as plt\n",
        "\n",
        "# Membuat plot untuk training dan validation loss\n",
        "plt.plot(model2_history.history['loss'], label='Training Loss')\n",
        "plt.plot(model2_history.history['val_loss'], label='Validation Loss')\n",
        "\n",
        "# Memberi label pada sumbu x dan y serta judul plot\n",
        "plt.xlabel('Epoch')\n",
        "plt.ylabel('Loss')\n",
        "plt.title('Training and Validation Loss Over Time')\n",
        "\n",
        "# Menampilkan legenda\n",
        "plt.legend()\n",
        "\n",
        "# Menampilkan plot\n",
        "plt.show()\n"
      ],
      "metadata": {
        "id": "NxpEUKgWXp7S",
        "colab": {
          "base_uri": "https://localhost:8080/",
          "height": 472
        },
        "outputId": "e7158af2-314f-43f2-cf8e-fdd7732d90fa"
      },
      "execution_count": 28,
      "outputs": [
        {
          "output_type": "display_data",
          "data": {
            "text/plain": [
              "<Figure size 640x480 with 1 Axes>"
            ],
            "image/png": "[encoded data removed]"
          },
          "metadata": {}
        }
      ]
    },
    {
      "cell_type": "code",
      "source": [
        "results = model2.evaluate(images_test, labels_test, batch_size=128)\n",
        "print(\"test loss, test acc:\", results)"
      ],
      "metadata": {
        "id": "hnVdidgXKiSK",
        "colab": {
          "base_uri": "https://localhost:8080/"
        },
        "outputId": "f3a85b48-5d78-4212-8d11-9b4513b34448"
      },
      "execution_count": 29,
      "outputs": [
        {
          "output_type": "stream",
          "name": "stdout",
          "text": [
            "2/2 [==============================] - 1s 324ms/step - loss: 0.1699 - accuracy: 0.9800\n",
            "test loss, test acc: [0.16986247897148132, 0.9800000190734863]\n"
          ]
        }
      ]
    },
    {
      "cell_type": "code",
      "source": [
        "from sklearn.metrics import confusion_matrix, classification_report\n",
        "import seaborn as sns\n",
        "def evaluate_model(model, images_test,labels_test):\n",
        "\n",
        "    results = model2.evaluate(images_test,labels_test, verbose=0)\n",
        "    loss = results[0]\n",
        "    acc = results[1]\n",
        "\n",
        "    print(\"    Test Loss: {:.5f}\".format(loss))\n",
        "    print(\"Test Accuracy: {:.2f}%\".format(acc * 100))\n",
        "\n",
        "    y_pred = np.squeeze((model2.predict(images_test) >= 0.5).astype(np.int))\n",
        "    cm = confusion_matrix(labels_test, y_pred)\n",
        "    clr = classification_report(labels_test, y_pred, target_names=[\"NEGATIVE\", \"POSITIVE\"])\n",
        "\n",
        "    plt.figure(figsize=(6, 6))\n",
        "    sns.heatmap(cm, annot=True, fmt='g', vmin=0, cmap='Blues', cbar=False)\n",
        "    plt.xticks(ticks=np.arange(2) + 0.5, labels=[\"NEGATIVE\", \"POSITIVE\"])\n",
        "    plt.yticks(ticks=np.arange(2) + 0.5, labels=[\"NEGATIVE\", \"POSITIVE\"])\n",
        "    plt.xlabel(\"Predicted\")\n",
        "    plt.ylabel(\"Actual\")\n",
        "    plt.title(\"Confusion Matrix\")\n",
        "    plt.show()\n",
        "\n",
        "    print(\"Classification Report:\\n----------------------\\n\", clr)"
      ],
      "metadata": {
        "id": "-oCLV8BiKkdJ"
      },
      "execution_count": 30,
      "outputs": []
    },
    {
      "cell_type": "code",
      "source": [
        "evaluate_model(model2,images_test,labels_test )"
      ],
      "metadata": {
        "id": "PkIygB9zKoec",
        "colab": {
          "base_uri": "https://localhost:8080/",
          "height": 879
        },
        "outputId": "aba7d268-4b28-4a88-ba5a-187043bab55d"
      },
      "execution_count": 31,
      "outputs": [
        {
          "output_type": "stream",
          "name": "stdout",
          "text": [
            "    Test Loss: 0.16986\n",
            "Test Accuracy: 98.00%\n",
            "7/7 [==============================] - 1s 64ms/step\n"
          ]
        },
        {
          "output_type": "stream",
          "name": "stderr",
          "text": [
            "<ipython-input-30-8d941afc3560>:12: DeprecationWarning: `np.int` is a deprecated alias for the builtin `int`. To silence this warning, use `int` by itself. Doing this will not modify any behavior and is safe. When replacing `np.int`, you may wish to use e.g. `np.int64` or `np.int32` to specify the precision. If you wish to review your current use, check the release note link for additional information.\n",
            "Deprecated in NumPy 1.20; for more details and guidance: https://numpy.org/devdocs/release/1.20.0-notes.html#deprecations\n",
            "  y_pred = np.squeeze((model2.predict(images_test) >= 0.5).astype(np.int))\n"
          ]
        },
        {
          "output_type": "display_data",
          "data": {
            "text/plain": [
              "<Figure size 600x600 with 1 Axes>"
            ],
            "image/png": "[encoded data removed]"
          },
          "metadata": {}
        },
        {
          "output_type": "stream",
          "name": "stdout",
          "text": [
            "Classification Report:\n",
            "----------------------\n",
            "               precision    recall  f1-score   support\n",
            "\n",
            "    NEGATIVE       0.98      0.98      0.98       100\n",
            "    POSITIVE       0.98      0.98      0.98       100\n",
            "\n",
            "    accuracy                           0.98       200\n",
            "   macro avg       0.98      0.98      0.98       200\n",
            "weighted avg       0.98      0.98      0.98       200\n",
            "\n"
          ]
        }
      ]
    },
    {
      "cell_type": "code",
      "source": [],
      "metadata": {
        "id": "8mtYBt6wKzOo"
      },
      "execution_count": null,
      "outputs": []
    }
  ]
}